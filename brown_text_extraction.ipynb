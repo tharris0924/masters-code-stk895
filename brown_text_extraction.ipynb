{
 "cells": [
  {
   "cell_type": "markdown",
   "metadata": {},
   "source": [
    "### NLTK Brown Corpus\n",
    "This corpus contains text from 500 sources, and the sources have been categorized by genre, such as news, editorial, and so on.<br>\n",
    "The purpose of this notebook is to extract the occurences of certain words in the Brown corpus."
   ]
  },
  {
   "cell_type": "code",
   "execution_count": 1,
   "metadata": {},
   "outputs": [],
   "source": [
    "import scipy as sp\n",
    "from nltk.corpus import brown\n",
    "import re\n",
    "import pandas as pd\n",
    "import matplotlib.pyplot as plt\n",
    "import numpy as np"
   ]
  },
  {
   "cell_type": "code",
   "execution_count": 2,
   "metadata": {},
   "outputs": [],
   "source": [
    "def initial_clean(text):\n",
    "    \"\"\"\n",
    "    Function to clean text of websites, email addressess and any punctuation\n",
    "    We also lower case the text\n",
    "    Args:\n",
    "        text: raw corpus\n",
    "\n",
    "    Returns: tokenized corpus\n",
    "\n",
    "    \"\"\"\n",
    "    text = re.sub(r\"((\\S+)?(http(s)?)(\\S+))|((\\S+)?(www)(\\S+))|((\\S+)?(\\@)(\\S+)?)\", \" \", text)\n",
    "    text = re.sub(r\"[^a-zA-Z ]\", \"\", text)\n",
    "    text = text.lower()\n",
    "    #text = strip_short(text, minsize=3)\n",
    "    #text = nltk.word_tokenize(text)\n",
    "    if text.strip():\n",
    "        return text"
   ]
  },
  {
   "cell_type": "code",
   "execution_count": 4,
   "metadata": {},
   "outputs": [],
   "source": [
    "#join sentences into docs\n",
    "docs = []\n",
    "for fileid in brown.fileids():\n",
    "    sents = []\n",
    "    for sent in brown.sents(fileids=fileid):\n",
    "        sents.extend([initial_clean(s) for s in sent]) #do basic pre-processing\n",
    "\n",
    "    docs.append(sents)\n",
    "    "
   ]
  },
  {
   "cell_type": "code",
   "execution_count": 5,
   "metadata": {},
   "outputs": [],
   "source": [
    "#make dataframe to write results to\n",
    "df = pd.DataFrame()\n",
    "df_norm = pd.DataFrame()\n",
    "\n",
    "said_count = []\n",
    "showed_count = []\n",
    "kennedy_count = []\n",
    "\n",
    "said_norm = []\n",
    "showed_norm = []\n",
    "kennedy_norm = []\n",
    "\n",
    "d_len = []\n",
    "#three_word_len = []\n",
    "N = 10\n",
    "for d in docs:\n",
    "    said_count.append(d.count(\"said\"))\n",
    "    showed_count.append(d.count(\"showed\"))\n",
    "    kennedy_count.append(d.count(\"kennedy\"))\n",
    "    d_len.append(len(d)) #document length\n",
    "    three_word_len = d.count(\"said\") + d.count(\"showed\") + d.count(\"kennedy\")\n",
    "    if three_word_len > 0:\n",
    "        said_norm.append(np.round((N * d.count(\"said\"))/three_word_len))\n",
    "        showed_norm.append(np.round((N * d.count(\"showed\"))/three_word_len))\n",
    "        kennedy_norm.append(np.round((N * d.count(\"kennedy\"))/three_word_len))\n",
    "    \n",
    "df.loc[:,'N'] = d_len\n",
    "df.loc[:,'said'] = said_count\n",
    "df.loc[:,'showed'] = showed_count\n",
    "df.loc[:,'kennedy'] = kennedy_count\n",
    "df_norm.loc[:,'said_norm'] = said_norm\n",
    "df_norm.loc[:,'showed_norm'] = showed_norm\n",
    "df_norm.loc[:,'kennedy_norm'] = kennedy_norm\n",
    "df_norm[\"N\"] = df_norm.sum(axis=1)"
   ]
  },
  {
   "cell_type": "code",
   "execution_count": 6,
   "metadata": {},
   "outputs": [
    {
     "name": "stdout",
     "output_type": "stream",
     "text": [
      "     said_norm  showed_norm  kennedy_norm     N\n",
      "0         10.0          0.0           0.0  10.0\n",
      "1         10.0          0.0           0.0  10.0\n",
      "2          7.0          0.0           3.0  10.0\n",
      "3          3.0          0.0           7.0  10.0\n",
      "4         10.0          0.0           0.0  10.0\n",
      "..         ...          ...           ...   ...\n",
      "347       10.0          0.0           0.0  10.0\n",
      "348       10.0          0.0           0.0  10.0\n",
      "349        9.0          1.0           0.0  10.0\n",
      "350       10.0          0.0           0.0  10.0\n",
      "351       10.0          0.0           0.0  10.0\n",
      "\n",
      "[352 rows x 4 columns]\n"
     ]
    }
   ],
   "source": [
    "print(df_norm)"
   ]
  },
  {
   "cell_type": "code",
   "execution_count": 7,
   "metadata": {},
   "outputs": [],
   "source": [
    "df.to_csv('brown_word_counts.csv')\n",
    "df_norm.to_csv('brown_normalized_counts.csv')"
   ]
  },
  {
   "cell_type": "markdown",
   "metadata": {},
   "source": [
    "## Make new normalized corpus"
   ]
  },
  {
   "cell_type": "code",
   "execution_count": 8,
   "metadata": {},
   "outputs": [
    {
     "name": "stdout",
     "output_type": "stream",
     "text": [
      "['dear', 'sirs', None, 'let', 'me', 'begin', 'by', 'clearing', 'up', 'any', 'possible', 'misconception', 'in', 'your', 'minds', None, 'wherever', 'you', 'are', None, 'the', 'collective', 'by', 'which', 'i', 'address', 'you', 'in', 'the', 'title', 'above', 'is', 'neither', 'patronizing', 'nor', 'jocose', 'but', 'an', 'exact', 'industrial', 'term', 'in', 'use', 'among', 'professional', 'thieves', None, 'it', 'is', None, 'i', 'am', 'reliably', 'given', 'to', 'understand', None, 'the', 'technical', 'argot', 'for', 'those', 'who', 'engage', 'in', 'your', 'particular', 'branch', 'of', 'the', 'boost', None, None, 'ie', None, 'burglars', 'who', 'rob', 'while', 'the', 'tenants', 'are', 'absent', None, 'in', 'contrast', 'to', 'hotslough', 'prowlers', None, 'those', 'who', 'work', 'while', 'the', 'occupants', 'are', 'home', None, 'since', 'the', 'latter', 'obviously', 'require', 'an', 'audacity', 'you', 'do', 'not', 'possess', None, 'you', 'may', 'perhaps', 'suppose', 'that', 'i', 'am', 'taunting', 'you', 'as', 'socially', 'inferior', None, 'far', 'from', 'it', None, None, 'i', 'merely', 'draw', 'an', 'etymological', 'distinction', None, 'hoping', 'that', 'specialists', 'and', 'busy', 'people', 'like', 'you', 'will', 'welcome', 'such', 'precision', 'in', 'a', 'layman', None, 'above', 'all', None, 'disabuse', 'yourselves', 'of', 'any', 'thought', 'that', 'i', 'propose', 'to', 'vent', 'moral', 'indignation', 'at', 'your', 'rifling', 'my', 'residence', None, 'to', 'whimper', 'over', 'the', 'loss', 'of', 'a', 'few', 'objets', 'dart', None, 'or', 'to', 'shame', 'you', 'into', 'rectitude', None, 'my', 'object', None, 'rather', None, 'is', 'to', 'alert', 'you', 'to', 'an', 'aspect', 'or', 'two', 'of', 'the', 'affair', 'that', 'could', 'have', 'the', 'gravest', 'implications', 'for', 'you', None, 'far', 'beyond', 'the', 'legal', 'sanctions', 'society', 'might', 'inflict', None, 'you', 'have', 'unwittingly', 'set', 'in', 'motion', 'forces', 'so', 'malign', None, 'so', 'vindictive', None, 'that', 'it', 'would', 'be', 'downright', 'inhumane', 'of', 'me', 'not', 'to', 'warn', 'you', 'about', 'them', None, 'quite', 'candidly', None, 'fellows', None, 'i', 'wouldnt', 'be', 'in', 'your', 'shoes', 'for', 'all', 'the', 'rice', 'in', 'china', None, 'as', 'youve', 'doubtless', 'forgotten', 'the', 'circumstances', 'in', 'the', 'press', 'of', 'more', 'recent', 'depredations', None, 'permit', 'me', 'to', 'recapitulate', 'them', 'briefly', None, 'sometime', 'on', 'saturday', 'evening', None, 'august', 'nd', None, 'while', 'my', 'family', 'and', 'i', 'were', 'dining', 'at', 'the', 'hostaria', 'dell', 'orso', None, 'in', 'rome', None, 'you', 'jimmied', 'a', 'window', 'of', 'our', 'home', 'in', 'bucks', 'county', None, 'pennsylvania', None, 'and', 'let', 'yourselves', 'into', 'the', 'premises', None, 'hastening', 'to', 'the', 'attic', None, 'the', 'temperature', 'of', 'which', 'was', 'easily', 'hotter', 'than', 'the', 'gold', 'coast', None, 'you', 'proceeded', 'to', 'mask', 'the', 'windows', 'with', 'a', 'fancy', 'wool', 'coverlet', None, 'some', 'khaki', 'pants', None, 'and', 'the', 'like', None, 'and', 'to', 'ransack', 'the', 'innumerable', 'boxes', 'and', 'barrels', 'stored', 'there', None, 'what', 'you', 'were', 'looking', 'for', None, 'unless', 'you', 'make', 'a', 'hobby', 'of', 'collecting', 'old', 'tennis', 'rackets', 'and', 'fly', 'screens', None, 'eludes', 'me', None, 'but', 'to', 'judge', 'from', 'phonograph', 'records', 'scattered', 'about', 'a', 'fumedoak', 'victrola', None, 'you', 'danced', 'two', 'tangos', 'and', 'a', 'paso', 'doble', None, 'which', 'must', 'have', 'been', 'fairly', 'enervating', 'in', 'that', 'milieu', None, 'you', 'then', 'descended', 'one', 'story', None, 'glommed', 'a', 'television', 'set', 'from', 'the', 'music', 'room', None, 'the', 'only', 'constructive', 'feature', 'of', 'your', 'visit', None, 'by', 'the', 'way', None, 'and', None, 'returning', 'to', 'the', 'ground', 'floor', None, 'entered', 'the', 'master', 'bedroom', None, 'from', 'the', 'curio', 'cabinet', 'on', 'its', 'south', 'wall', 'and', 'the', 'bureaus', 'beneath', None, 'you', 'abstracted', 'seventeen', 'ivory', None, 'metal', None, 'wood', None, 'and', 'stone', 'sculptures', 'of', 'oriental', 'and', 'african', 'origin', None, 'two', 'snuffboxes', None, 'and', 'a', 'jadehandled', 'magnifying', 'glass', None, 'rummaging', 'through', 'a', 'stack', 'of', 'drawers', 'nearby', None, 'you', 'unearthed', 'an', 'antique', 'french', 'chess', 'set', 'in', 'ivory', 'and', 'sandalwood', None, 'which', None, 'along', 'with', 'two', 'box', 'kodaks', None, 'you', 'added', 'to', 'your', 'haul', None, 'then', None, 'having', 'wrapped', 'the', 'lot', 'in', 'an', 'afghan', 'my', 'dog', 'customarily', 'slept', 'on', None, 'you', 'lammed', 'out', 'the', 'front', 'door', None, 'considerately', 'leaving', 'it', 'open', 'for', 'neighbors', 'to', 'discover', None, 'so', 'much', 'for', 'the', 'tiresome', 'facts', None, 'as', 'familiar', 'to', 'you', None, 'im', 'sure', None, 'as', 'to', 'the', 'constables', 'and', 'state', 'troopers', 'who', 'followed', 'in', 'your', 'wake', None, 'the', 'foregoing', None, 'aided', 'by', 'several', 'clues', 'ill', 'withhold', 'to', 'keep', 'you', 'on', 'your', 'toes', None, 'will', 'pursue', 'you', 'with', 'a', 'tenacity', 'worthy', 'of', 'inspector', 'javert', None, 'but', 'before', 'they', 'close', 'in', None, 'gird', 'yourselves', None, 'i', 'repeat', None, 'for', 'a', 'vengeance', 'infinitely', 'more', 'pitiless', None, 'fourteen', 'of', 'the', 'sculptures', 'you', 'took', 'possess', 'properties', 'of', 'a', 'most', 'curious', 'and', 'terrifying', 'nature', None, 'as', 'you', 'will', 'observe', 'when', 'your', 'limbs', 'begin', 'to', 'wither', 'and', 'your', 'hair', 'falls', 'out', 'in', 'patches', None, 'in', 'time', None, 'these', 'minor', 'manifestations', 'will', 'multiply', 'and', 'effloresce', None, 'riddling', 'you', 'with', 'frambesia', None, 'the', 'kings', 'evil', None, 'sheep', 'rot', None, 'and', 'clonic', 'spasm', None, 'until', 'your', 'very', 'existence', 'becomes', 'a', 'burden', 'and', 'you', 'cry', 'out', 'for', 'release', None, 'all', 'this', None, 'though', None, 'is', 'simply', 'a', 'prelude', None, 'a', 'curtainraiser', None, 'for', 'what', 'ensues', None, 'and', 'i', 'doubt', 'whether', 'any', 'occidental', 'could', 'accurately', 'forecast', 'it', None, 'if', None, 'however', None, 'it', 'would', 'help', 'to', 'intensify', 'your', 'anguish', None, 'i', 'can', 'delimit', 'the', 'powers', 'of', 'a', 'few', 'of', 'the', 'divinities', 'youve', 'affronted', 'and', 'describe', 'the', 'punishment', 'they', 'meted', 'out', 'in', 'one', 'analogous', 'instance', None, 'hold', 'on', 'tight', None, 'first', 'of', 'all', None, 'the', 'six', 'figures', 'of', 'the', 'buddha', 'you', 'heisted', None, 'four', 'siamese', 'heads', None, 'a', 'black', 'obsidian', 'statuette', 'in', 'the', 'earthtouching', 'position', None, 'and', 'a', 'large', 'brass', 'figure', 'of', 'the', 'dying', 'buddha', 'on', 'a', 'teakwood', 'base', None, 'now', None, 'you', 'probably', 'share', 'the', 'widespread', 'western', 'belief', 'that', 'the', 'lord', 'buddha', 'is', 'the', 'most', 'compassionate', 'of', 'the', 'gods', None, 'much', 'more', 'so', 'than', 'jehovah', 'and', 'allah', 'and', 'the', 'rest', None, 'fess', 'up', None, 'dont', 'you', None, None, 'well', None, 'ordinarily', 'he', 'is', None, 'except', None, 'as', 'the', 'wheel', 'of', 'the', 'law', 'specifies', None, 'toward', 'impious', 'folk', 'who', 'steal', None, 'disturb', None, 'or', 'maltreat', 'the', 'presence', None, 'very', 'peculiar', 'retribution', 'indeed', 'seems', 'to', 'overtake', 'such', 'jokers', None, 'eight', 'or', 'ten', 'years', 'ago', None, 'a', 'couple', 'of', 'french', 'hoods', 'stole', 'a', 'priceless', 'khmer', 'head', 'from', 'the', 'musee', 'guimet', None, 'in', 'paris', None, 'and', 'a', 'week', 'later', 'crawled', 'into', 'the', 'salpetriere', 'with', 'unmistakable', 'symptoms', 'of', 'leprosy', None, 'hells', 'own', 'amount', 'of', 'chaulmoogra', 'oil', 'did', 'nothing', 'to', 'alleviate', 'their', 'torment', None, None, 'they', 'expired', 'amid', 'indescribable', 'fantods', None, 'imploring', 'the', 'blessed', 'one', 'to', 'forgive', 'their', 'desecration', None, 'any', 'reputable', 'french', 'interne', 'can', 'supply', 'you', 'with', 'a', 'dozen', 'similar', 'instances', None, 'and', 'ill', 'presently', 'recount', 'a', 'case', 'out', 'of', 'my', 'own', 'personal', 'experience', None, 'but', None, 'for', 'the', 'moment', None, 'lets', 'resume', 'our', 'catalogue', None, 'whether', 'the', 'pair', 'of', 'sudanese', 'ivory', 'carvings', 'you', 'lifted', 'really', 'possess', 'the', 'juju', 'to', 'turn', 'your', 'livers', 'to', 'lead', None, 'as', 'a', 'dealer', 'in', 'khartoum', 'assured', 'me', None, 'i', 'am', 'not', 'competent', 'to', 'say', None, 'likewise', 'the', 'ivory', 'chinese', 'female', 'figure', 'known', 'as', 'a', None, 'doctor', 'lady', None, None, 'provenance', 'honan', None, None, None, 'a', 'friend', 'of', 'mine', 'removing', 'her', 'from', 'the', 'curio', 'cabinet', 'for', 'inspection', 'was', 'felled', 'as', 'if', 'by', 'a', 'hammer', None, 'but', 'he', 'had', 'previously', 'drunk', 'a', 'quantity', 'of', 'applejack', None, 'the', 'three', 'indian', 'brass', 'deities', None, 'though', None, 'ganessa', None, 'siva', None, 'and', 'krishna', None, 'are', 'an', 'altogether', 'different', 'cup', 'of', 'tea', None, 'they', 'hail', 'from', 'travancore', None, 'a', 'state', 'in', 'the', 'subcontinent', 'where', 'kali', None, 'the', 'goddess', 'of', 'death', None, 'is', 'worshiped', None, 'have', 'you', 'ever', 'heard', 'of', 'thuggee', None, None, 'nuf', 'sed', None, 'but', 'it', 'is', 'the', 'wooden', 'sculpture', 'from', 'bali', None, 'the', 'one', 'representing', 'two', 'men', 'with', 'their', 'heads', 'bent', 'backward', 'and', 'their', 'bodies', 'interlaced', 'by', 'a', 'fish', None, 'that', 'i', 'particularly', 'call', 'to', 'your', 'attention', None, 'oddly', 'enough', None, 'this', 'is', 'an', 'amulet', 'against', 'housebreakers', None, 'presented', 'to', 'the', 'mem', 'and', 'me', 'by', 'a', 'local', 'rajah', 'in', None, None, 'inscribed', 'around', 'its', 'base', 'is', 'a', 'charm', 'in', 'balinese', None, 'a', 'dialect', 'i', 'take', 'it', 'you', 'dont', 'comprehend', None, 'neither', 'do', 'i', None, 'but', 'the', 'tjokorda', 'agoeng', 'was', 'good', 'enough', 'to', 'translate', None, 'and', 'ill', 'do', 'as', 'much', 'for', 'you', None, 'whosoever', 'violates', 'our', 'rooftree', None, 'the', 'legend', 'states', None, 'can', 'expect', 'maximal', 'sorrow', None, 'the', 'teeth', 'will', 'rain', 'from', 'his', 'mouth', 'like', 'pebbles', None, 'his', 'wife', 'will', 'make', 'him', 'cocu', 'with', 'fishmongers', None, 'and', 'a', 'trolley', 'car', 'will', 'grow', 'in', 'his', 'stomach', None, 'furthermore', None, 'and', 'this', None, 'to', 'me', None, 'strikes', 'an', 'especially', 'warming', 'note', None, 'it', 'shall', 'avail', 'the', 'vandals', 'naught', 'to', 'throw', 'away', 'or', 'dispose', 'of', 'their', 'loot', None, 'the', 'cycle', 'of', 'disaster', 'starts', 'the', 'moment', 'they', 'touch', 'any', 'belonging', 'of', 'ours', None, 'and', 'dogs', 'them', 'unto', 'the', 'fortyfifth', 'generation', None, 'sort', 'of', 'remorseless', None, 'isnt', 'it', None, None, 'still', None, 'there', 'it', 'is', None, 'now', None, 'you', 'no', 'doubt', 'regard', 'the', 'preceding', 'as', 'pap', None, None, 'youre', 'tooling', 'around', 'full', 'of', 'gage', 'in', 'your', 'hot', 'rods', None, 'gorging', 'yourselves', 'on', 'pizza', 'and', 'playing', 'pinball', 'in', 'the', 'taverns', 'and', 'generally', 'behaving', 'like', 'ubermenschen', None, 'in', 'that', 'case', None, 'listen', 'to', 'what', 'befell', 'another', 'wisenheimer', 'who', 'tangled', 'with', 'our', 'joss', None, 'a', 'couple', 'of', 'years', 'back', None, 'i', 'occupied', 'a', 'village', 'apartment', 'whose', 'outer', 'staircase', 'contained', 'the', 'type', 'of', 'niche', 'called', 'a', None, 'coffin', 'turn', None, None, 'in', 'it', 'was', 'a', 'stone', 'tibetan', 'buddha', 'i', 'had', 'picked', 'up', 'in', 'bombay', None, 'and', 'occasionally', None, 'to', 'make', 'merit', None, 'my', 'wife', 'and', 'i', 'garlanded', 'it', 'with', 'flowers', 'or', 'laid', 'a', 'few', 'pennies', 'in', 'its', 'lap', None, 'after', 'a', 'while', None, 'we', 'became', 'aware', 'that', 'the', 'money', 'was', 'disappearing', 'as', 'fast', 'as', 'we', 'replenished', 'it', None, 'our', 'suspicions', 'eventually', 'centered', None, 'by', 'the', 'process', 'of', 'elimination', None, 'on', 'a', 'grocers', 'boy', None, 'a', 'thoroughly', 'bad', 'hat', None, 'who', 'delivered', 'cartons', 'to', 'the', 'people', 'overhead', None, 'the', 'more', 'i', 'probed', 'into', 'this', 'young', 'mans', 'activities', 'and', 'character', None, 'the', 'less', 'savory', 'i', 'found', 'him', None, 'i', 'learned', None, 'for', 'example', None, 'that', 'he', 'made', 'a', 'practice', 'of', 'yapping', 'at', 'dogs', 'he', 'encountered', 'and', None, 'in', 'winter', None, 'of', 'sprinkling', 'salt', 'on', 'the', 'icy', 'pavement', 'to', 'scarify', 'their', 'feet', None, 'his', 'energy', 'was', 'prodigious', None, None, 'sometimes', 'he', 'would', 'be', 'up', 'before', 'dawn', None, 'clad', 'as', 'a', 'garbage', 'collector', 'and', 'hurling', 'pails', 'into', 'areaways', 'to', 'exasperate', 'us', None, 'and', 'thereafter', 'would', 'hurry', 'to', 'the', 'bronx', 'zoo', 'to', 'grimace', 'at', 'the', 'lions', 'and', 'press', 'cigar', 'butts', 'against', 'their', 'paws', None, 'evenings', None, 'he', 'was', 'frequently', 'to', 'be', 'seen', 'at', 'restaurants', 'like', 'enrico', None, 'paglieris', 'or', 'peters', 'backyard', 'drunkenly', 'donning', 'ladies', 'hats', 'and', 'singing', None, 'o', 'sole', 'mio', None, None, 'in', 'short', None, 'and', 'to', 'borrow', 'an', 'arboreal', 'phrase', None, 'slash', 'timber', None, 'well', None, 'the', 'odious', 'little', 'toad', 'went', 'along', 'chivying', 'animals', 'and', 'humans', 'who', 'couldnt', 'retaliate', None, 'and', 'in', 'due', 'course', None, 'as', 'was', 'inevitable', None, 'overreached', 'himself', None, 'one', 'morning', None, 'we', 'discovered', 'not', 'only', 'that', 'the', 'pennies', 'were', 'missing', 'from', 'the', 'idol', 'but', 'that', 'a', 'cigarette', 'had', 'been', 'stubbed', 'out', 'in', 'its', 'lap', None, None, 'now', 'hes', 'bought', 'it', None, None, 'said', 'my', 'wife', 'contentedly', None, None, 'no', 'divinity', 'will', 'hold', 'still', 'for', 'that', None, 'hes', 'really', 'asking', 'for', 'it', None, None, 'and', 'how', 'right', 'she', 'was', None, 'the', 'next', 'time', 'we', 'saw', 'him', None, 'he', 'was', 'a', 'changed', 'person', None, None, 'he', 'had', 'aged', 'thirty', 'years', None, 'and', 'his', 'face', None, 'the', 'color', 'of', 'tallow', None, 'was', 'crisscrossed', 'with', 'wrinkles', None, 'as', 'though', 'it', 'had', 'been', 'wrapped', 'in', 'chicken', 'wire', None, 'some', 'sort', 'of', 'nemesis', 'was', 'haunting', 'his', 'footsteps', None, 'he', 'told', 'us', 'in', 'a', 'quavering', 'voice', None, 'either', 'an', 'ape', 'specter', 'or', 'abe', 'spector', None, 'a', 'processserver', None, 'we', 'couldnt', 'determine', 'which', None, 'his', 'eyes', 'had', 'the', 'same', 'dreadful', 'rigid', 'stare', 'as', 'dr', 'grimesby', 'roylotts', 'when', 'he', 'was', 'found', 'before', 'his', 'open', 'safe', 'wearing', 'the', 'speckled', 'band', None, 'the', 'grocery', 'the', 'youth', 'worked', 'for', 'soon', 'tired', 'of', 'his', 'depressing', 'effect', 'on', 'customers', None, 'most', 'of', 'whom', 'were', 'sufficiently', 'neurotic', 'without', 'the', 'threat', 'of', 'incubi', None, 'and', 'let', 'him', 'go', None, 'the', 'beautiful', None, 'the', 'satisfying', 'part', 'of', 'his', 'disintegration', None, 'however', None, 'was', 'the', 'masterly', 'way', 'the', 'buddha', 'polished', 'him', 'off', None, 'reduced', 'to', 'beggary', None, 'he', 'at', 'last', 'got', 'a', 'job', 'as', 'office', 'boy', 'to', 'a', 'television', 'producer', None, 'his', 'hubris', None, 'deficiency', 'of', 'taste', None, 'and', 'sadism', 'carried', 'him', 'straightaway', 'to', 'the', 'top', None, 'he', 'evolved', 'programs', 'that', 'plumbed', 'new', 'depths', 'of', 'bathos', 'and', 'besmirched', 'whole', 'networks', None, 'and', 'quickly', 'superseded', 'his', 'boss', None, 'not', 'long', 'ago', None, 'i', 'rode', 'down', 'with', 'him', 'in', 'an', 'elevator', 'in', 'radio', 'city', None, None, 'he', 'was', 'talking', 'to', 'himself', 'thirteen', 'to', 'the', 'dozen', 'and', 'smoking', 'two', 'cigars', 'at', 'once', None, 'clearly', 'a', 'man', 'in', 'extremis', None, None, 'see', 'that', 'guy', None, None, None, 'the', 'operator', 'asked', 'pityingly', None, None, 'i', 'wouldnt', 'be', 'in', 'his', 'shoes', 'for', 'all', 'the', 'rice', 'in', 'china', None, 'theres', 'some', 'kind', 'of', 'a', 'nemesis', 'haunting', 'his', 'footsteps', None, None, 'however', 'one', 'looks', 'at', 'it', None, 'therefore', None, 'id', 'say', 'that', 'your', 'horoscope', 'for', 'this', 'autumn', 'is', 'the', 'reverse', 'of', 'rosy', None, 'the', 'inventory', 'you', 'acquired', 'from', 'me', 'isnt', 'going', 'to', 'be', 'easy', 'to', 'move', None, None, 'you', 'cant', 'very', 'well', 'sidle', 'up', 'to', 'people', 'on', 'the', 'street', 'and', 'ask', 'if', 'they', 'want', 'to', 'buy', 'a', 'hot', 'bodhisattva', None, 'additionally', None, 'since', 'youre', 'going', 'to', 'be', 'hors', 'de', 'combat', 'pretty', 'soon', 'with', 'sprue', None, 'yaws', None, 'delhi', 'boil', None, 'the', 'granville', 'wilt', None, 'liver', 'fluke', None, 'bilharziasis', None, 'and', 'a', 'host', 'of', 'other', 'complications', 'of', 'the', 'hex', 'youve', 'aroused', None, 'you', 'mustnt', 'expect', 'to', 'be', 'lionized', 'socially', None, 'my', 'advice', None, 'if', 'you', 'live', 'long', 'enough', 'to', 'continue', 'your', 'vocation', None, 'is', 'that', 'the', 'next', 'time', 'youre', 'attracted', 'by', 'the', 'exotic', None, 'pass', 'it', 'up', None, 'its', 'nothing', 'but', 'a', 'headache', None, 'as', 'you', 'can', 'count', 'on', 'me', 'to', 'do', 'the', 'same', None, 'compassionately', 'yours', None, 's', 'j', 'perelman', 'revulsion', 'in', 'the', 'desert', 'the', 'doors', 'of', 'the', 'd', 'train', 'slid', 'shut', None, 'and', 'as', 'i', 'dropped', 'into', 'a', 'seat', 'and', None, 'exhaling', None, 'looked', 'up', 'across', 'the', 'aisle', None, 'the', 'whole', 'aviary', 'in', 'my', 'head', 'burst', 'into', 'song', None, 'she', 'was', 'a', 'living', 'doll', 'and', 'no', 'mistake', None, 'the', 'blueblack', 'bang', None, 'the', 'wide', 'cheekbones', None, 'oliveflushed', None, 'that', 'betrayed', 'the', 'cherokee', 'strain', 'in', 'her', 'midwestern', 'lineage', None, 'and', 'the', 'mouth', 'whose', 'only', 'fault', None, 'in', 'the', 'novelists', 'carping', 'phrase', None, 'was', 'that', 'the', 'lower', 'lip', 'was', 'a', 'trifle', 'too', 'voluptuous', None, 'from', 'what', 'i', 'was', 'able', 'to', 'gauge', 'in', 'a', 'swift', None, 'greedy', 'glance', None, 'the', 'figure', 'inside', 'the', 'coralcolored', 'boucle', 'dress', 'was', 'stupefying', None]\n"
     ]
    }
   ],
   "source": [
    "print(d)"
   ]
  },
  {
   "cell_type": "code",
   "execution_count": 12,
   "metadata": {},
   "outputs": [],
   "source": [
    "docs_3words= []\n",
    "l=['said', 'showed', 'kennedy']\n",
    "doc_lens = []\n",
    "said_count = []\n",
    "showed_count = []\n",
    "kennedy_count = []\n",
    "for d in docs:\n",
    "    words = [x for i, x in enumerate(d) if x in l]\n",
    "    doc_lens.append(len(words))\n",
    "    said_count.append(words.count(\"said\"))\n",
    "    showed_count.append(words.count(\"showed\"))\n",
    "    kennedy_count.append(d.count(\"kennedy\"))\n",
    "    docs_3words.append([(x,words.count(x)) for x in set(words)])"
   ]
  },
  {
   "cell_type": "code",
   "execution_count": 13,
   "metadata": {},
   "outputs": [
    {
     "name": "stdout",
     "output_type": "stream",
     "text": [
      "[('said', 24)] 24\n"
     ]
    }
   ],
   "source": [
    "print(docs_3words[0], doc_lens[0])"
   ]
  },
  {
   "cell_type": "code",
   "execution_count": 15,
   "metadata": {},
   "outputs": [],
   "source": [
    "N = 10\n",
    "docs_normalized = []\n",
    "said_count = []\n",
    "showed_count = []\n",
    "kennedy_count = []\n",
    "\n",
    "for d in range(len(docs_3words)):\n",
    "    new_doc = []\n",
    "    for word in docs_3words[d]:\n",
    "        word_count = word[1]\n",
    "        new_wordcount = (word_count * N)/doc_lens[d]\n",
    "        if word[0] == 'said':\n",
    "            new_word = (word[0], np.round(new_wordcount))\n",
    "            new_doc.append(new_word)\n",
    "    if new_doc: docs_normalized.append(new_doc)\n",
    "        "
   ]
  },
  {
   "cell_type": "code",
   "execution_count": 16,
   "metadata": {},
   "outputs": [
    {
     "name": "stdout",
     "output_type": "stream",
     "text": [
      "[[('said', 10.0)], [('said', 10.0)], [('said', 7.0)], [('said', 3.0)], [('said', 10.0)], [('said', 9.0)], [('said', 9.0)], [('said', 5.0)], [('said', 10.0)], [('said', 10.0)], [('said', 10.0)], [('said', 10.0)], [('said', 9.0)], [('said', 10.0)], [('said', 8.0)], [('said', 10.0)], [('said', 10.0)], [('said', 10.0)], [('said', 10.0)], [('said', 10.0)], [('said', 10.0)], [('said', 10.0)], [('said', 10.0)], [('said', 5.0)], [('said', 10.0)], [('said', 8.0)], [('said', 10.0)], [('said', 10.0)], [('said', 10.0)], [('said', 5.0)], [('said', 1.0)], [('said', 10.0)], [('said', 6.0)], [('said', 10.0)], [('said', 10.0)], [('said', 10.0)], [('said', 10.0)], [('said', 4.0)], [('said', 1.0)], [('said', 10.0)], [('said', 4.0)], [('said', 5.0)], [('said', 7.0)], [('said', 2.0)], [('said', 10.0)], [('said', 10.0)], [('said', 10.0)], [('said', 10.0)], [('said', 10.0)], [('said', 3.0)], [('said', 10.0)], [('said', 1.0)], [('said', 10.0)], [('said', 4.0)], [('said', 7.0)], [('said', 5.0)], [('said', 10.0)], [('said', 8.0)], [('said', 10.0)], [('said', 10.0)], [('said', 5.0)], [('said', 10.0)], [('said', 8.0)], [('said', 5.0)], [('said', 1.0)], [('said', 10.0)], [('said', 7.0)], [('said', 3.0)], [('said', 10.0)], [('said', 10.0)], [('said', 10.0)], [('said', 7.0)], [('said', 10.0)], [('said', 10.0)], [('said', 10.0)], [('said', 10.0)], [('said', 10.0)], [('said', 10.0)], [('said', 10.0)], [('said', 10.0)], [('said', 10.0)], [('said', 10.0)], [('said', 10.0)], [('said', 10.0)], [('said', 5.0)], [('said', 10.0)], [('said', 10.0)], [('said', 10.0)], [('said', 10.0)], [('said', 10.0)], [('said', 10.0)], [('said', 10.0)], [('said', 10.0)], [('said', 5.0)], [('said', 10.0)], [('said', 10.0)], [('said', 7.0)], [('said', 10.0)], [('said', 10.0)], [('said', 9.0)], [('said', 10.0)], [('said', 7.0)], [('said', 10.0)], [('said', 10.0)], [('said', 7.0)], [('said', 10.0)], [('said', 10.0)], [('said', 6.0)], [('said', 10.0)], [('said', 10.0)], [('said', 8.0)], [('said', 10.0)], [('said', 5.0)], [('said', 3.0)], [('said', 7.0)], [('said', 10.0)], [('said', 10.0)], [('said', 10.0)], [('said', 10.0)], [('said', 5.0)], [('said', 10.0)], [('said', 10.0)], [('said', 10.0)], [('said', 5.0)], [('said', 10.0)], [('said', 7.0)], [('said', 10.0)], [('said', 8.0)], [('said', 10.0)], [('said', 10.0)], [('said', 10.0)], [('said', 10.0)], [('said', 7.0)], [('said', 9.0)], [('said', 7.0)], [('said', 10.0)], [('said', 10.0)], [('said', 9.0)], [('said', 10.0)], [('said', 10.0)], [('said', 10.0)], [('said', 10.0)], [('said', 10.0)], [('said', 10.0)], [('said', 10.0)], [('said', 10.0)], [('said', 10.0)], [('said', 10.0)], [('said', 10.0)], [('said', 10.0)], [('said', 10.0)], [('said', 10.0)], [('said', 5.0)], [('said', 10.0)], [('said', 10.0)], [('said', 9.0)], [('said', 10.0)], [('said', 10.0)], [('said', 10.0)], [('said', 9.0)], [('said', 5.0)], [('said', 10.0)], [('said', 10.0)], [('said', 10.0)], [('said', 10.0)], [('said', 10.0)], [('said', 7.0)], [('said', 10.0)], [('said', 10.0)], [('said', 10.0)], [('said', 5.0)], [('said', 10.0)], [('said', 3.0)], [('said', 5.0)], [('said', 10.0)], [('said', 10.0)], [('said', 10.0)], [('said', 10.0)], [('said', 10.0)], [('said', 10.0)], [('said', 10.0)], [('said', 10.0)], [('said', 5.0)], [('said', 8.0)], [('said', 10.0)], [('said', 10.0)], [('said', 3.0)], [('said', 10.0)], [('said', 10.0)], [('said', 10.0)], [('said', 10.0)], [('said', 10.0)], [('said', 10.0)], [('said', 10.0)], [('said', 10.0)], [('said', 10.0)], [('said', 10.0)], [('said', 10.0)], [('said', 10.0)], [('said', 10.0)], [('said', 9.0)], [('said', 8.0)], [('said', 8.0)], [('said', 10.0)], [('said', 10.0)], [('said', 10.0)], [('said', 7.0)], [('said', 10.0)], [('said', 10.0)], [('said', 10.0)], [('said', 10.0)], [('said', 9.0)], [('said', 10.0)], [('said', 10.0)], [('said', 10.0)], [('said', 10.0)], [('said', 10.0)], [('said', 10.0)], [('said', 10.0)], [('said', 10.0)], [('said', 10.0)], [('said', 10.0)], [('said', 10.0)], [('said', 10.0)], [('said', 10.0)], [('said', 10.0)], [('said', 10.0)], [('said', 10.0)], [('said', 10.0)], [('said', 8.0)], [('said', 9.0)], [('said', 8.0)], [('said', 10.0)], [('said', 10.0)], [('said', 9.0)], [('said', 8.0)], [('said', 10.0)], [('said', 9.0)], [('said', 10.0)], [('said', 10.0)], [('said', 10.0)], [('said', 10.0)], [('said', 8.0)], [('said', 10.0)], [('said', 10.0)], [('said', 10.0)], [('said', 10.0)], [('said', 10.0)], [('said', 5.0)], [('said', 9.0)], [('said', 10.0)], [('said', 10.0)], [('said', 9.0)], [('said', 10.0)], [('said', 10.0)], [('said', 7.0)], [('said', 9.0)], [('said', 10.0)], [('said', 9.0)], [('said', 10.0)], [('said', 10.0)], [('said', 10.0)], [('said', 10.0)], [('said', 10.0)], [('said', 6.0)], [('said', 10.0)], [('said', 9.0)], [('said', 9.0)], [('said', 10.0)], [('said', 9.0)], [('said', 10.0)], [('said', 10.0)], [('said', 10.0)], [('said', 10.0)], [('said', 10.0)], [('said', 9.0)], [('said', 10.0)], [('said', 6.0)], [('said', 9.0)], [('said', 7.0)], [('said', 10.0)], [('said', 8.0)], [('said', 10.0)], [('said', 10.0)], [('said', 9.0)], [('said', 10.0)], [('said', 10.0)], [('said', 10.0)], [('said', 10.0)], [('said', 10.0)], [('said', 10.0)], [('said', 10.0)], [('said', 10.0)], [('said', 10.0)], [('said', 10.0)], [('said', 10.0)], [('said', 10.0)], [('said', 10.0)], [('said', 9.0)], [('said', 10.0)], [('said', 10.0)], [('said', 10.0)], [('said', 10.0)], [('said', 10.0)], [('said', 10.0)], [('said', 10.0)], [('said', 8.0)], [('said', 9.0)], [('said', 10.0)], [('said', 7.0)], [('said', 9.0)], [('said', 10.0)], [('said', 10.0)], [('said', 10.0)], [('said', 9.0)], [('said', 10.0)], [('said', 10.0)]]\n"
     ]
    }
   ],
   "source": [
    "print(docs_normalized)"
   ]
  },
  {
   "cell_type": "code",
   "execution_count": null,
   "metadata": {},
   "outputs": [],
   "source": []
  }
 ],
 "metadata": {
  "kernelspec": {
   "display_name": "Python 3",
   "language": "python",
   "name": "python3"
  },
  "language_info": {
   "codemirror_mode": {
    "name": "ipython",
    "version": 3
   },
   "file_extension": ".py",
   "mimetype": "text/x-python",
   "name": "python",
   "nbconvert_exporter": "python",
   "pygments_lexer": "ipython3",
   "version": "3.7.4"
  }
 },
 "nbformat": 4,
 "nbformat_minor": 2
}